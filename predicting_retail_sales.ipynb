{
 "cells": [
  {
   "cell_type": "code",
   "execution_count": 1,
   "metadata": {},
   "outputs": [],
   "source": [
    "import pandas as pd\n",
    "import numpy as np\n",
    "import matplotlib.pyplot as plt\n",
    "import seaborn as sns"
   ]
  },
  {
   "cell_type": "code",
   "execution_count": 2,
   "metadata": {},
   "outputs": [
    {
     "name": "stdout",
     "output_type": "stream",
     "text": [
      "         date  product_identifier  department_identifier  \\\n",
      "0  2012-01-01                  74                     11   \n",
      "1  2012-01-01                 337                     11   \n",
      "2  2012-01-01                 423                     12   \n",
      "3  2012-01-01                 432                     12   \n",
      "4  2012-01-01                 581                     21   \n",
      "\n",
      "          category_of_product  outlet        state  sales  \n",
      "0                      others     111  Maharashtra      0  \n",
      "1                      others     111  Maharashtra      1  \n",
      "2                      others     111  Maharashtra      0  \n",
      "3                      others     111  Maharashtra      0  \n",
      "4  fast_moving_consumer_goods     111  Maharashtra      0  \n"
     ]
    }
   ],
   "source": [
    "#import the datasets\n",
    "\n",
    "train_data = pd.read_csv('data_in/train_data.csv')\n",
    "test_data = pd.read_csv('data_in/test_data.csv')\n",
    "print(train_data.head())\n"
   ]
  },
  {
   "cell_type": "code",
   "execution_count": 3,
   "metadata": {},
   "outputs": [
    {
     "name": "stdout",
     "output_type": "stream",
     "text": [
      "   outlet  product_identifier  week_id  sell_price\n",
      "0     111                  74       49        2.94\n",
      "1     111                  74       50        2.94\n",
      "2     111                  74       51        2.94\n",
      "3     111                  74       52        2.94\n",
      "4     111                  74       53        2.94\n"
     ]
    }
   ],
   "source": [
    "#Auxilary datasets\n",
    "product_prices = pd.read_csv('data_in/product_prices.csv')\n",
    "date_week_map = pd.read_csv('data_in/date_to_week_id_map.csv')\n",
    "\n",
    "print(product_prices.head())"
   ]
  },
  {
   "cell_type": "code",
   "execution_count": 4,
   "metadata": {},
   "outputs": [],
   "source": [
    "#sales is target attribute\n",
    "#You are expected to create an analytical and forecasting framework to \n",
    "# predict the sales of the products based on the quantitative and \n",
    "# qualitative features provided in the datasets. \n",
    "# You may derive new features from the existing features and\n",
    "# also from the domain knowledge, which may help in \n",
    "# improving the model efficiency"
   ]
  },
  {
   "cell_type": "code",
   "execution_count": 5,
   "metadata": {},
   "outputs": [],
   "source": [
    "#data cleaning check data sanity\n",
    "#merge main data and the required auxilary data\n",
    "#EDA: Simple EDA's understand the category and state split "
   ]
  },
  {
   "cell_type": "code",
   "execution_count": 7,
   "metadata": {},
   "outputs": [
    {
     "name": "stdout",
     "output_type": "stream",
     "text": [
      "(395000, 7)\n",
      "(59000, 4)\n",
      "(821, 2)\n"
     ]
    }
   ],
   "source": [
    "print(train_data.shape)\n",
    "print(product_prices.shape)\n",
    "print(date_week_map.shape)"
   ]
  },
  {
   "cell_type": "code",
   "execution_count": 8,
   "metadata": {},
   "outputs": [],
   "source": [
    "#Merging the data sets\n",
    "\n",
    "product_week_map = pd.merge(\n",
    "    product_prices,\n",
    "    date_week_map,\n",
    "    on = ['week_id'],\n",
    "    how = 'inner'\n",
    ")"
   ]
  },
  {
   "cell_type": "code",
   "execution_count": 11,
   "metadata": {},
   "outputs": [
    {
     "name": "stdout",
     "output_type": "stream",
     "text": [
      "   outlet  product_identifier  week_id  sell_price        date\n",
      "0     111                  74       49        2.94  2012-01-01\n",
      "1     111                  74       49        2.94  2012-01-02\n",
      "2     111                  74       49        2.94  2012-01-03\n",
      "3     111                  74       49        2.94  2012-01-04\n",
      "4     111                  74       49        2.94  2012-01-05\n",
      "(410500, 5)\n"
     ]
    }
   ],
   "source": [
    "print(product_week_map.head())\n",
    "print(product_week_map.shape)"
   ]
  },
  {
   "cell_type": "code",
   "execution_count": 12,
   "metadata": {},
   "outputs": [],
   "source": [
    "train_data = pd.merge(train_data, product_week_map,\n",
    "                      on = ['date','product_identifier','outlet'],\n",
    "                      how = 'inner')"
   ]
  },
  {
   "cell_type": "code",
   "execution_count": 13,
   "metadata": {},
   "outputs": [
    {
     "data": {
      "text/plain": [
       "(395000, 9)"
      ]
     },
     "execution_count": 13,
     "metadata": {},
     "output_type": "execute_result"
    }
   ],
   "source": [
    "train_data.shape"
   ]
  },
  {
   "cell_type": "code",
   "execution_count": 14,
   "metadata": {},
   "outputs": [
    {
     "data": {
      "text/html": [
       "<div>\n",
       "<style scoped>\n",
       "    .dataframe tbody tr th:only-of-type {\n",
       "        vertical-align: middle;\n",
       "    }\n",
       "\n",
       "    .dataframe tbody tr th {\n",
       "        vertical-align: top;\n",
       "    }\n",
       "\n",
       "    .dataframe thead th {\n",
       "        text-align: right;\n",
       "    }\n",
       "</style>\n",
       "<table border=\"1\" class=\"dataframe\">\n",
       "  <thead>\n",
       "    <tr style=\"text-align: right;\">\n",
       "      <th></th>\n",
       "      <th>date</th>\n",
       "      <th>product_identifier</th>\n",
       "      <th>department_identifier</th>\n",
       "      <th>category_of_product</th>\n",
       "      <th>outlet</th>\n",
       "      <th>state</th>\n",
       "      <th>sales</th>\n",
       "      <th>week_id</th>\n",
       "      <th>sell_price</th>\n",
       "    </tr>\n",
       "  </thead>\n",
       "  <tbody>\n",
       "    <tr>\n",
       "      <th>0</th>\n",
       "      <td>2012-01-01</td>\n",
       "      <td>74</td>\n",
       "      <td>11</td>\n",
       "      <td>others</td>\n",
       "      <td>111</td>\n",
       "      <td>Maharashtra</td>\n",
       "      <td>0</td>\n",
       "      <td>49</td>\n",
       "      <td>2.94</td>\n",
       "    </tr>\n",
       "    <tr>\n",
       "      <th>1</th>\n",
       "      <td>2012-01-01</td>\n",
       "      <td>337</td>\n",
       "      <td>11</td>\n",
       "      <td>others</td>\n",
       "      <td>111</td>\n",
       "      <td>Maharashtra</td>\n",
       "      <td>1</td>\n",
       "      <td>49</td>\n",
       "      <td>7.44</td>\n",
       "    </tr>\n",
       "    <tr>\n",
       "      <th>2</th>\n",
       "      <td>2012-01-01</td>\n",
       "      <td>423</td>\n",
       "      <td>12</td>\n",
       "      <td>others</td>\n",
       "      <td>111</td>\n",
       "      <td>Maharashtra</td>\n",
       "      <td>0</td>\n",
       "      <td>49</td>\n",
       "      <td>0.97</td>\n",
       "    </tr>\n",
       "    <tr>\n",
       "      <th>3</th>\n",
       "      <td>2012-01-01</td>\n",
       "      <td>432</td>\n",
       "      <td>12</td>\n",
       "      <td>others</td>\n",
       "      <td>111</td>\n",
       "      <td>Maharashtra</td>\n",
       "      <td>0</td>\n",
       "      <td>49</td>\n",
       "      <td>4.97</td>\n",
       "    </tr>\n",
       "    <tr>\n",
       "      <th>4</th>\n",
       "      <td>2012-01-01</td>\n",
       "      <td>581</td>\n",
       "      <td>21</td>\n",
       "      <td>fast_moving_consumer_goods</td>\n",
       "      <td>111</td>\n",
       "      <td>Maharashtra</td>\n",
       "      <td>0</td>\n",
       "      <td>49</td>\n",
       "      <td>4.88</td>\n",
       "    </tr>\n",
       "  </tbody>\n",
       "</table>\n",
       "</div>"
      ],
      "text/plain": [
       "         date  product_identifier  department_identifier  \\\n",
       "0  2012-01-01                  74                     11   \n",
       "1  2012-01-01                 337                     11   \n",
       "2  2012-01-01                 423                     12   \n",
       "3  2012-01-01                 432                     12   \n",
       "4  2012-01-01                 581                     21   \n",
       "\n",
       "          category_of_product  outlet        state  sales  week_id  sell_price  \n",
       "0                      others     111  Maharashtra      0       49        2.94  \n",
       "1                      others     111  Maharashtra      1       49        7.44  \n",
       "2                      others     111  Maharashtra      0       49        0.97  \n",
       "3                      others     111  Maharashtra      0       49        4.97  \n",
       "4  fast_moving_consumer_goods     111  Maharashtra      0       49        4.88  "
      ]
     },
     "execution_count": 14,
     "metadata": {},
     "output_type": "execute_result"
    }
   ],
   "source": [
    "train_data.head()"
   ]
  },
  {
   "cell_type": "code",
   "execution_count": 15,
   "metadata": {},
   "outputs": [
    {
     "data": {
      "text/html": [
       "<div>\n",
       "<style scoped>\n",
       "    .dataframe tbody tr th:only-of-type {\n",
       "        vertical-align: middle;\n",
       "    }\n",
       "\n",
       "    .dataframe tbody tr th {\n",
       "        vertical-align: top;\n",
       "    }\n",
       "\n",
       "    .dataframe thead th {\n",
       "        text-align: right;\n",
       "    }\n",
       "</style>\n",
       "<table border=\"1\" class=\"dataframe\">\n",
       "  <thead>\n",
       "    <tr style=\"text-align: right;\">\n",
       "      <th></th>\n",
       "      <th>product_identifier</th>\n",
       "      <th>department_identifier</th>\n",
       "      <th>outlet</th>\n",
       "      <th>sales</th>\n",
       "      <th>week_id</th>\n",
       "      <th>sell_price</th>\n",
       "    </tr>\n",
       "  </thead>\n",
       "  <tbody>\n",
       "    <tr>\n",
       "      <th>count</th>\n",
       "      <td>395000.000000</td>\n",
       "      <td>395000.000000</td>\n",
       "      <td>395000.000000</td>\n",
       "      <td>395000.000000</td>\n",
       "      <td>395000.000000</td>\n",
       "      <td>395000.000000</td>\n",
       "    </tr>\n",
       "    <tr>\n",
       "      <th>mean</th>\n",
       "      <td>1509.960000</td>\n",
       "      <td>24.460000</td>\n",
       "      <td>211.200000</td>\n",
       "      <td>1.228919</td>\n",
       "      <td>105.070886</td>\n",
       "      <td>4.987644</td>\n",
       "    </tr>\n",
       "    <tr>\n",
       "      <th>std</th>\n",
       "      <td>809.799518</td>\n",
       "      <td>6.337863</td>\n",
       "      <td>91.161291</td>\n",
       "      <td>3.595266</td>\n",
       "      <td>32.578749</td>\n",
       "      <td>3.874444</td>\n",
       "    </tr>\n",
       "    <tr>\n",
       "      <th>min</th>\n",
       "      <td>74.000000</td>\n",
       "      <td>11.000000</td>\n",
       "      <td>111.000000</td>\n",
       "      <td>0.000000</td>\n",
       "      <td>49.000000</td>\n",
       "      <td>0.050000</td>\n",
       "    </tr>\n",
       "    <tr>\n",
       "      <th>25%</th>\n",
       "      <td>926.000000</td>\n",
       "      <td>21.000000</td>\n",
       "      <td>113.000000</td>\n",
       "      <td>0.000000</td>\n",
       "      <td>77.000000</td>\n",
       "      <td>2.680000</td>\n",
       "    </tr>\n",
       "    <tr>\n",
       "      <th>50%</th>\n",
       "      <td>1325.000000</td>\n",
       "      <td>22.000000</td>\n",
       "      <td>221.500000</td>\n",
       "      <td>0.000000</td>\n",
       "      <td>105.000000</td>\n",
       "      <td>3.980000</td>\n",
       "    </tr>\n",
       "    <tr>\n",
       "      <th>75%</th>\n",
       "      <td>1753.000000</td>\n",
       "      <td>31.000000</td>\n",
       "      <td>331.000000</td>\n",
       "      <td>1.000000</td>\n",
       "      <td>133.000000</td>\n",
       "      <td>6.480000</td>\n",
       "    </tr>\n",
       "    <tr>\n",
       "      <th>max</th>\n",
       "      <td>3021.000000</td>\n",
       "      <td>33.000000</td>\n",
       "      <td>333.000000</td>\n",
       "      <td>293.000000</td>\n",
       "      <td>161.000000</td>\n",
       "      <td>44.360000</td>\n",
       "    </tr>\n",
       "  </tbody>\n",
       "</table>\n",
       "</div>"
      ],
      "text/plain": [
       "       product_identifier  department_identifier         outlet  \\\n",
       "count       395000.000000          395000.000000  395000.000000   \n",
       "mean          1509.960000              24.460000     211.200000   \n",
       "std            809.799518               6.337863      91.161291   \n",
       "min             74.000000              11.000000     111.000000   \n",
       "25%            926.000000              21.000000     113.000000   \n",
       "50%           1325.000000              22.000000     221.500000   \n",
       "75%           1753.000000              31.000000     331.000000   \n",
       "max           3021.000000              33.000000     333.000000   \n",
       "\n",
       "               sales        week_id     sell_price  \n",
       "count  395000.000000  395000.000000  395000.000000  \n",
       "mean        1.228919     105.070886       4.987644  \n",
       "std         3.595266      32.578749       3.874444  \n",
       "min         0.000000      49.000000       0.050000  \n",
       "25%         0.000000      77.000000       2.680000  \n",
       "50%         0.000000     105.000000       3.980000  \n",
       "75%         1.000000     133.000000       6.480000  \n",
       "max       293.000000     161.000000      44.360000  "
      ]
     },
     "execution_count": 15,
     "metadata": {},
     "output_type": "execute_result"
    }
   ],
   "source": [
    "train_data.describe()"
   ]
  },
  {
   "cell_type": "code",
   "execution_count": 16,
   "metadata": {},
   "outputs": [
    {
     "data": {
      "text/plain": [
       "date                     0\n",
       "product_identifier       0\n",
       "department_identifier    0\n",
       "category_of_product      0\n",
       "outlet                   0\n",
       "state                    0\n",
       "sales                    0\n",
       "week_id                  0\n",
       "sell_price               0\n",
       "dtype: int64"
      ]
     },
     "execution_count": 16,
     "metadata": {},
     "output_type": "execute_result"
    }
   ],
   "source": [
    "#check for null values\n",
    "train_data.isnull().sum()"
   ]
  },
  {
   "cell_type": "code",
   "execution_count": 17,
   "metadata": {},
   "outputs": [],
   "source": [
    "#we don't have any null values in the dataset \n",
    "#lets check first 5 and last 5 rows"
   ]
  },
  {
   "cell_type": "code",
   "execution_count": 18,
   "metadata": {},
   "outputs": [
    {
     "data": {
      "text/html": [
       "<div>\n",
       "<style scoped>\n",
       "    .dataframe tbody tr th:only-of-type {\n",
       "        vertical-align: middle;\n",
       "    }\n",
       "\n",
       "    .dataframe tbody tr th {\n",
       "        vertical-align: top;\n",
       "    }\n",
       "\n",
       "    .dataframe thead th {\n",
       "        text-align: right;\n",
       "    }\n",
       "</style>\n",
       "<table border=\"1\" class=\"dataframe\">\n",
       "  <thead>\n",
       "    <tr style=\"text-align: right;\">\n",
       "      <th></th>\n",
       "      <th>date</th>\n",
       "      <th>product_identifier</th>\n",
       "      <th>department_identifier</th>\n",
       "      <th>category_of_product</th>\n",
       "      <th>outlet</th>\n",
       "      <th>state</th>\n",
       "      <th>sales</th>\n",
       "      <th>week_id</th>\n",
       "      <th>sell_price</th>\n",
       "    </tr>\n",
       "  </thead>\n",
       "  <tbody>\n",
       "    <tr>\n",
       "      <th>0</th>\n",
       "      <td>2012-01-01</td>\n",
       "      <td>74</td>\n",
       "      <td>11</td>\n",
       "      <td>others</td>\n",
       "      <td>111</td>\n",
       "      <td>Maharashtra</td>\n",
       "      <td>0</td>\n",
       "      <td>49</td>\n",
       "      <td>2.94</td>\n",
       "    </tr>\n",
       "    <tr>\n",
       "      <th>1</th>\n",
       "      <td>2012-01-01</td>\n",
       "      <td>337</td>\n",
       "      <td>11</td>\n",
       "      <td>others</td>\n",
       "      <td>111</td>\n",
       "      <td>Maharashtra</td>\n",
       "      <td>1</td>\n",
       "      <td>49</td>\n",
       "      <td>7.44</td>\n",
       "    </tr>\n",
       "    <tr>\n",
       "      <th>2</th>\n",
       "      <td>2012-01-01</td>\n",
       "      <td>423</td>\n",
       "      <td>12</td>\n",
       "      <td>others</td>\n",
       "      <td>111</td>\n",
       "      <td>Maharashtra</td>\n",
       "      <td>0</td>\n",
       "      <td>49</td>\n",
       "      <td>0.97</td>\n",
       "    </tr>\n",
       "    <tr>\n",
       "      <th>3</th>\n",
       "      <td>2012-01-01</td>\n",
       "      <td>432</td>\n",
       "      <td>12</td>\n",
       "      <td>others</td>\n",
       "      <td>111</td>\n",
       "      <td>Maharashtra</td>\n",
       "      <td>0</td>\n",
       "      <td>49</td>\n",
       "      <td>4.97</td>\n",
       "    </tr>\n",
       "    <tr>\n",
       "      <th>4</th>\n",
       "      <td>2012-01-01</td>\n",
       "      <td>581</td>\n",
       "      <td>21</td>\n",
       "      <td>fast_moving_consumer_goods</td>\n",
       "      <td>111</td>\n",
       "      <td>Maharashtra</td>\n",
       "      <td>0</td>\n",
       "      <td>49</td>\n",
       "      <td>4.88</td>\n",
       "    </tr>\n",
       "  </tbody>\n",
       "</table>\n",
       "</div>"
      ],
      "text/plain": [
       "         date  product_identifier  department_identifier  \\\n",
       "0  2012-01-01                  74                     11   \n",
       "1  2012-01-01                 337                     11   \n",
       "2  2012-01-01                 423                     12   \n",
       "3  2012-01-01                 432                     12   \n",
       "4  2012-01-01                 581                     21   \n",
       "\n",
       "          category_of_product  outlet        state  sales  week_id  sell_price  \n",
       "0                      others     111  Maharashtra      0       49        2.94  \n",
       "1                      others     111  Maharashtra      1       49        7.44  \n",
       "2                      others     111  Maharashtra      0       49        0.97  \n",
       "3                      others     111  Maharashtra      0       49        4.97  \n",
       "4  fast_moving_consumer_goods     111  Maharashtra      0       49        4.88  "
      ]
     },
     "execution_count": 18,
     "metadata": {},
     "output_type": "execute_result"
    }
   ],
   "source": [
    "train_data.head()\n"
   ]
  },
  {
   "cell_type": "code",
   "execution_count": 19,
   "metadata": {},
   "outputs": [
    {
     "data": {
      "text/html": [
       "<div>\n",
       "<style scoped>\n",
       "    .dataframe tbody tr th:only-of-type {\n",
       "        vertical-align: middle;\n",
       "    }\n",
       "\n",
       "    .dataframe tbody tr th {\n",
       "        vertical-align: top;\n",
       "    }\n",
       "\n",
       "    .dataframe thead th {\n",
       "        text-align: right;\n",
       "    }\n",
       "</style>\n",
       "<table border=\"1\" class=\"dataframe\">\n",
       "  <thead>\n",
       "    <tr style=\"text-align: right;\">\n",
       "      <th></th>\n",
       "      <th>date</th>\n",
       "      <th>product_identifier</th>\n",
       "      <th>department_identifier</th>\n",
       "      <th>category_of_product</th>\n",
       "      <th>outlet</th>\n",
       "      <th>state</th>\n",
       "      <th>sales</th>\n",
       "      <th>week_id</th>\n",
       "      <th>sell_price</th>\n",
       "    </tr>\n",
       "  </thead>\n",
       "  <tbody>\n",
       "    <tr>\n",
       "      <th>394995</th>\n",
       "      <td>2014-02-28</td>\n",
       "      <td>2932</td>\n",
       "      <td>33</td>\n",
       "      <td>drinks_and_food</td>\n",
       "      <td>333</td>\n",
       "      <td>Kerala</td>\n",
       "      <td>2</td>\n",
       "      <td>161</td>\n",
       "      <td>2.78</td>\n",
       "    </tr>\n",
       "    <tr>\n",
       "      <th>394996</th>\n",
       "      <td>2014-02-28</td>\n",
       "      <td>2935</td>\n",
       "      <td>33</td>\n",
       "      <td>drinks_and_food</td>\n",
       "      <td>333</td>\n",
       "      <td>Kerala</td>\n",
       "      <td>8</td>\n",
       "      <td>161</td>\n",
       "      <td>0.20</td>\n",
       "    </tr>\n",
       "    <tr>\n",
       "      <th>394997</th>\n",
       "      <td>2014-02-28</td>\n",
       "      <td>3004</td>\n",
       "      <td>33</td>\n",
       "      <td>drinks_and_food</td>\n",
       "      <td>333</td>\n",
       "      <td>Kerala</td>\n",
       "      <td>0</td>\n",
       "      <td>161</td>\n",
       "      <td>2.50</td>\n",
       "    </tr>\n",
       "    <tr>\n",
       "      <th>394998</th>\n",
       "      <td>2014-02-28</td>\n",
       "      <td>3008</td>\n",
       "      <td>33</td>\n",
       "      <td>drinks_and_food</td>\n",
       "      <td>333</td>\n",
       "      <td>Kerala</td>\n",
       "      <td>0</td>\n",
       "      <td>161</td>\n",
       "      <td>1.98</td>\n",
       "    </tr>\n",
       "    <tr>\n",
       "      <th>394999</th>\n",
       "      <td>2014-02-28</td>\n",
       "      <td>3021</td>\n",
       "      <td>33</td>\n",
       "      <td>drinks_and_food</td>\n",
       "      <td>333</td>\n",
       "      <td>Kerala</td>\n",
       "      <td>0</td>\n",
       "      <td>161</td>\n",
       "      <td>2.08</td>\n",
       "    </tr>\n",
       "  </tbody>\n",
       "</table>\n",
       "</div>"
      ],
      "text/plain": [
       "              date  product_identifier  department_identifier  \\\n",
       "394995  2014-02-28                2932                     33   \n",
       "394996  2014-02-28                2935                     33   \n",
       "394997  2014-02-28                3004                     33   \n",
       "394998  2014-02-28                3008                     33   \n",
       "394999  2014-02-28                3021                     33   \n",
       "\n",
       "       category_of_product  outlet   state  sales  week_id  sell_price  \n",
       "394995     drinks_and_food     333  Kerala      2      161        2.78  \n",
       "394996     drinks_and_food     333  Kerala      8      161        0.20  \n",
       "394997     drinks_and_food     333  Kerala      0      161        2.50  \n",
       "394998     drinks_and_food     333  Kerala      0      161        1.98  \n",
       "394999     drinks_and_food     333  Kerala      0      161        2.08  "
      ]
     },
     "execution_count": 19,
     "metadata": {},
     "output_type": "execute_result"
    }
   ],
   "source": [
    "train_data.tail()"
   ]
  },
  {
   "cell_type": "code",
   "execution_count": 21,
   "metadata": {},
   "outputs": [
    {
     "data": {
      "text/plain": [
       "date                      object\n",
       "product_identifier         int64\n",
       "department_identifier      int64\n",
       "category_of_product       object\n",
       "outlet                     int64\n",
       "state                     object\n",
       "sales                      int64\n",
       "week_id                    int64\n",
       "sell_price               float64\n",
       "dtype: object"
      ]
     },
     "execution_count": 21,
     "metadata": {},
     "output_type": "execute_result"
    }
   ],
   "source": [
    "train_data.dtypes"
   ]
  },
  {
   "cell_type": "code",
   "execution_count": 22,
   "metadata": {},
   "outputs": [],
   "source": [
    "##converting as category\n",
    "col = ['category_of_product','state']\n",
    "train_data[col] = train_data[col].astype('category')"
   ]
  },
  {
   "cell_type": "code",
   "execution_count": null,
   "metadata": {},
   "outputs": [],
   "source": [
    "train_data.dtypes"
   ]
  },
  {
   "cell_type": "code",
   "execution_count": null,
   "metadata": {},
   "outputs": [],
   "source": []
  }
 ],
 "metadata": {
  "kernelspec": {
   "display_name": "Python 3",
   "language": "python",
   "name": "python3"
  },
  "language_info": {
   "codemirror_mode": {
    "name": "ipython",
    "version": 3
   },
   "file_extension": ".py",
   "mimetype": "text/x-python",
   "name": "python",
   "nbconvert_exporter": "python",
   "pygments_lexer": "ipython3",
   "version": "3.8.8"
  },
  "orig_nbformat": 4
 },
 "nbformat": 4,
 "nbformat_minor": 2
}
